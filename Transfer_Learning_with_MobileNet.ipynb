{
  "nbformat": 4,
  "nbformat_minor": 0,
  "metadata": {
    "colab": {
      "provenance": []
    },
    "kernelspec": {
      "display_name": "Python 3",
      "name": "python3"
    },
    "language_info": {
      "name": "python"
    }
  },
  "cells": [
    {
      "cell_type": "code",
      "metadata": {
        "id": "k73CtZxZH360"
      },
      "source": [
        "import numpy as np\n",
        "import matplotlib.pyplot as plt\n",
        "import os\n",
        "import tensorflow as tf\n",
        "from sklearn.model_selection import train_test_split\n",
        "from tensorflow.keras.preprocessing.image import ImageDataGenerator\n",
        "from tensorflow.keras.preprocessing import image_dataset_from_directory\n",
        "from tensorflow.keras.layers.experimental.preprocessing import RandomFlip, RandomRotation, RandomZoom, RandomTranslation\n",
        "from tensorflow.keras.optimizers import Adam\n",
        "from tensorflow.keras.losses import BinaryCrossentropy\n",
        "%matplotlib inline"
      ],
      "execution_count": null,
      "outputs": []
    },
    {
      "cell_type": "code",
      "metadata": {
        "id": "19by5fzrLj3z"
      },
      "source": [
        "BATCH_SIZE = 32\n",
        "IMG_SIZE = (160, 160)\n",
        "train_path = '/content/drive/MyDrive/ML Datasets/cats_and_dogs_filtered/train'\n",
        "val_path = '/content/drive/MyDrive/ML Datasets/cats_and_dogs_filtered/validation'\n",
        "\n",
        "train_dataset = image_dataset_from_directory(train_path,\n",
        "                                             shuffle=True,\n",
        "                                             batch_size=BATCH_SIZE,\n",
        "                                             image_size=IMG_SIZE,\n",
        "                                             seed=42)\n",
        "\n",
        "test_dataset = image_dataset_from_directory(val_path,\n",
        "                                            shuffle=True,\n",
        "                                            batch_size=BATCH_SIZE,\n",
        "                                            image_size=IMG_SIZE,\n",
        "                                            seed=42)"
      ],
      "execution_count": null,
      "outputs": []
    },
    {
      "cell_type": "code",
      "metadata": {
        "id": "3-R6vQLlZjo2"
      },
      "source": [
        "validation_dataset = np.array(train_test_split(train_dataset, test_size=0.2, random_state=42))\n",
        "print(validation_dataset.shape)"
      ],
      "execution_count": null,
      "outputs": []
    },
    {
      "cell_type": "code",
      "metadata": {
        "id": "O2Uia-bAad1J"
      },
      "source": [
        "AUTOTUNE = tf.data.AUTOTUNE\n",
        "\n",
        "train_dataset = train_dataset.prefetch(buffer_size=AUTOTUNE)\n",
        "test_dataset = test_dataset.prefetch(buffer_size=AUTOTUNE)\n",
        "\n",
        "preprocess_input = tf.keras.applications.mobilenet_v2.preprocess_input"
      ],
      "execution_count": null,
      "outputs": []
    },
    {
      "cell_type": "code",
      "metadata": {
        "id": "nt2dphhU5Xwx"
      },
      "source": [
        "def augmentation():\n",
        "  data_aug = tf.keras.Sequential()\n",
        "  data_aug.add(RandomFlip('horizontal'))\n",
        "  data_aug.add(RandomRotation(0.2))\n",
        "  data_aug.add(RandomZoom((-0.2),(-0.2)))\n",
        "  data_aug.add(RandomTranslation((0.2),(0.2)))\n",
        "\n",
        "  return data_aug\n",
        "\n",
        "data_augment = augmentation()"
      ],
      "execution_count": null,
      "outputs": []
    },
    {
      "cell_type": "code",
      "metadata": {
        "id": "LgKHCmzO8zzN"
      },
      "source": [
        "preprocess_input = tf.keras.applications.mobilenet_v2.preprocess_input"
      ],
      "execution_count": null,
      "outputs": []
    },
    {
      "cell_type": "code",
      "metadata": {
        "id": "tGXWgQPEdAtE"
      },
      "source": [
        "def cats_dogs_model(img_size):\n",
        "\n",
        "  input_shape = img_size + (3,)\n",
        "\n",
        "  base_model = tf.keras.applications.MobileNetV2(input_shape=input_shape,\n",
        "                                                 include_top=False,\n",
        "                                                 weights=\"imagenet\")\n",
        "\n",
        "  base_model.trainable = False\n",
        "\n",
        "  inputs = tf.keras.Input(shape=input_shape)\n",
        "\n",
        "  x = data_augment(inputs)\n",
        "  x = preprocess_input(x)\n",
        "  x = base_model(x, training=False)\n",
        "  x = tf.keras.layers.GlobalAveragePooling2D()(x)\n",
        "  x = tf.keras.layers.Dropout(0.2)(x)\n",
        "\n",
        "  pred_layer = tf.keras.layers.Dense(1)\n",
        "\n",
        "  outputs = pred_layer(x)\n",
        "  model = tf.keras.Model(inputs, outputs)\n",
        "\n",
        "  return model"
      ],
      "execution_count": null,
      "outputs": []
    },
    {
      "cell_type": "code",
      "metadata": {
        "id": "ege6id8BfWnb"
      },
      "source": [
        "model = cats_dogs_model(IMG_SIZE)"
      ],
      "execution_count": null,
      "outputs": []
    },
    {
      "cell_type": "code",
      "metadata": {
        "id": "q2khM1dU-XP-"
      },
      "source": [
        "model.compile(optimizer=Adam(0.01),\n",
        "              loss=BinaryCrossentropy(from_logits=True),\n",
        "              metrics=['accuracy'])"
      ],
      "execution_count": null,
      "outputs": []
    },
    {
      "cell_type": "code",
      "metadata": {
        "id": "20CTwnHe_A6U"
      },
      "source": [
        "initial_epochs = 5\n",
        "model.fit(train_dataset, batch_size=32, epochs=initial_epochs)"
      ],
      "execution_count": null,
      "outputs": []
    },
    {
      "cell_type": "code",
      "metadata": {
        "id": "mdRw3Zt2TmnE"
      },
      "source": [
        "loss, accuracy = model.evaluate(test_dataset)\n",
        "print(\"Test accuracy: \", accuracy)\n",
        "print(\"Loss: \", loss)"
      ],
      "execution_count": null,
      "outputs": []
    },
    {
      "cell_type": "code",
      "metadata": {
        "id": "5eT7chkkAnEP"
      },
      "source": [
        "base_model = tf.keras.applications.MobileNetV2(input_shape=IMG_SIZE + (3,),\n",
        "                                                 include_top=False,\n",
        "                                                 weights=\"imagenet\")\n",
        "\n",
        "base_model.trainable = True\n",
        "\n",
        "print(\"Number of layers in the base model: \", len(base_model.layers))\n",
        "fine_tune_at = 120\n",
        "\n",
        "for layer in base_model.layers[:fine_tune_at:]:\n",
        "  layer.trainable = False\n",
        "\n",
        "loss = tf.keras.losses.BinaryCrossentropy(from_logits = True)\n",
        "optimizer = tf.keras.optimizers.Adam(0.001)\n",
        "metrics = ['accuracy']\n",
        "\n",
        "model.compile(loss=loss, optimizer = optimizer, metrics=metrics)"
      ],
      "execution_count": null,
      "outputs": []
    },
    {
      "cell_type": "code",
      "metadata": {
        "id": "g7YsxYW5QCEN"
      },
      "source": [
        "fine_tune_epochs = 2 * initial_epochs\n",
        "fine_tuned = model.fit(train_dataset, epochs=fine_tune_epochs)"
      ],
      "execution_count": null,
      "outputs": []
    },
    {
      "cell_type": "code",
      "metadata": {
        "id": "nA-FjgfvXnv_"
      },
      "source": [
        "loss, accuracy = model.evaluate(test_dataset)\n",
        "print(\"Test accuracy: \", accuracy)\n",
        "print(\"Loss: \", loss)"
      ],
      "execution_count": null,
      "outputs": []
    }
  ]
}